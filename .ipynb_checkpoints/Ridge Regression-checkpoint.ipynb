{
 "cells": [
  {
   "cell_type": "code",
   "execution_count": 1,
   "metadata": {
    "collapsed": true
   },
   "outputs": [],
   "source": [
    "import numpy as np\n",
    "import pandas as pd\n",
    "import sklearn.datasets\n",
    "%matplotlib inline\n",
    "import matplotlib.pyplot as plt\n",
    "import random\n",
    "from sklearn.preprocessing import Imputer\n",
    "from sklearn.linear_model import LinearRegression\n",
    "from sklearn.cross_validation import train_test_split\n",
    "from sklearn.linear_model import Ridge as rd\n",
    "#sklearn.datasets.make_classification(n_samples=10,n_features=20, n_classes=2)\n",
    "#sklearn.datasets.make_blobs()"
   ]
  },
  {
   "cell_type": "code",
   "execution_count": 5,
   "metadata": {
    "collapsed": false,
    "scrolled": false
   },
   "outputs": [
    {
     "name": "stdout",
     "output_type": "stream",
     "text": [
      "<class 'pandas.core.frame.DataFrame'>\n",
      "RangeIndex: 2215 entries, 0 to 2214\n",
      "Data columns (total 8 columns):\n",
      "PctUnemployed          2215 non-null float64\n",
      "PctEmploy              2215 non-null float64\n",
      "HousVacant             2215 non-null int64\n",
      "PctHousOccup           2215 non-null float64\n",
      "PctHousOwnOcc          2215 non-null float64\n",
      "PctVacantBoarded       2215 non-null float64\n",
      "PctVacMore6Mos         2215 non-null float64\n",
      "ViolentCrimesPerPop    2215 non-null float64\n",
      "dtypes: float64(7), int64(1)\n",
      "memory usage: 138.5 KB\n"
     ]
    },
    {
     "data": {
      "text/html": [
       "<div>\n",
       "<table border=\"1\" class=\"dataframe\">\n",
       "  <thead>\n",
       "    <tr style=\"text-align: right;\">\n",
       "      <th></th>\n",
       "      <th>PctUnemployed</th>\n",
       "      <th>PctEmploy</th>\n",
       "      <th>HousVacant</th>\n",
       "      <th>PctHousOccup</th>\n",
       "      <th>PctHousOwnOcc</th>\n",
       "      <th>PctVacantBoarded</th>\n",
       "      <th>PctVacMore6Mos</th>\n",
       "      <th>ViolentCrimesPerPop</th>\n",
       "    </tr>\n",
       "  </thead>\n",
       "  <tbody>\n",
       "    <tr>\n",
       "      <th>0</th>\n",
       "      <td>2.70</td>\n",
       "      <td>64.55</td>\n",
       "      <td>64</td>\n",
       "      <td>98.37</td>\n",
       "      <td>91.01</td>\n",
       "      <td>3.12</td>\n",
       "      <td>37.50</td>\n",
       "      <td>41.020000</td>\n",
       "    </tr>\n",
       "    <tr>\n",
       "      <th>1</th>\n",
       "      <td>2.43</td>\n",
       "      <td>61.96</td>\n",
       "      <td>240</td>\n",
       "      <td>97.15</td>\n",
       "      <td>84.88</td>\n",
       "      <td>0.00</td>\n",
       "      <td>18.33</td>\n",
       "      <td>127.560000</td>\n",
       "    </tr>\n",
       "    <tr>\n",
       "      <th>2</th>\n",
       "      <td>4.01</td>\n",
       "      <td>69.80</td>\n",
       "      <td>544</td>\n",
       "      <td>95.68</td>\n",
       "      <td>57.79</td>\n",
       "      <td>0.92</td>\n",
       "      <td>7.54</td>\n",
       "      <td>218.590000</td>\n",
       "    </tr>\n",
       "    <tr>\n",
       "      <th>3</th>\n",
       "      <td>9.86</td>\n",
       "      <td>54.74</td>\n",
       "      <td>669</td>\n",
       "      <td>91.19</td>\n",
       "      <td>54.89</td>\n",
       "      <td>2.54</td>\n",
       "      <td>57.85</td>\n",
       "      <td>306.640000</td>\n",
       "    </tr>\n",
       "    <tr>\n",
       "      <th>4</th>\n",
       "      <td>9.08</td>\n",
       "      <td>52.44</td>\n",
       "      <td>333</td>\n",
       "      <td>92.45</td>\n",
       "      <td>53.57</td>\n",
       "      <td>3.90</td>\n",
       "      <td>42.64</td>\n",
       "      <td>589.078922</td>\n",
       "    </tr>\n",
       "  </tbody>\n",
       "</table>\n",
       "</div>"
      ],
      "text/plain": [
       "   PctUnemployed  PctEmploy  HousVacant  PctHousOccup  PctHousOwnOcc  \\\n",
       "0           2.70      64.55          64         98.37          91.01   \n",
       "1           2.43      61.96         240         97.15          84.88   \n",
       "2           4.01      69.80         544         95.68          57.79   \n",
       "3           9.86      54.74         669         91.19          54.89   \n",
       "4           9.08      52.44         333         92.45          53.57   \n",
       "\n",
       "   PctVacantBoarded  PctVacMore6Mos  ViolentCrimesPerPop  \n",
       "0              3.12           37.50            41.020000  \n",
       "1              0.00           18.33           127.560000  \n",
       "2              0.92            7.54           218.590000  \n",
       "3              2.54           57.85           306.640000  \n",
       "4              3.90           42.64           589.078922  "
      ]
     },
     "execution_count": 5,
     "metadata": {},
     "output_type": "execute_result"
    }
   ],
   "source": [
    "cols = ['HousVacant','PctHousOccup','PctHousOwnOcc','PctVacantBoarded','PctVacMore6Mos','PctUnemployed','PctEmploy','ViolentCrimesPerPop']\n",
    "df = pd.read_csv('crimedata.csv', usecols=cols)\n",
    "df.head()\n",
    "sample_mean = []\n",
    "df.replace(\n",
    "    to_replace=['?'],\n",
    "    value=np.nan,\n",
    "    inplace=True\n",
    ")\n",
    "#for i in range(len(cols)):\n",
    "\n",
    "mean = 0\n",
    "'''for i in range(len(cols)):\n",
    "    value = 0\n",
    "    j = 0\n",
    "    for index, rows in df.iterrows():\n",
    "        if(rows[cols[i]] != np.nan):\n",
    "            value = value + float(rows[cols[i]])\n",
    "            print rows[cols[i]]\n",
    "        j = j + 1\n",
    "    mean = float(value/j)\n",
    "    #mean = mean.astype(str)\n",
    "    df[cols[i]].replace(\n",
    "    to_replace=['?'],\n",
    "    value=str(mean),\n",
    "    inplace=True\n",
    ")\n",
    "'''\n",
    "df = df.apply(pd.to_numeric)\n",
    "#imp = Imputer(missing_values=np.nan,   strategy='mean', axis=0)\n",
    "#print imp.fit(df)\n",
    "#print imp.transform(df)\n",
    "df.fillna(df.mean(), inplace=True)\n",
    "df.info()\n",
    "\n",
    "df.head()\n",
    "    "
   ]
  },
  {
   "cell_type": "code",
   "execution_count": 6,
   "metadata": {
    "collapsed": false,
    "scrolled": true
   },
   "outputs": [
    {
     "data": {
      "text/html": [
       "<div>\n",
       "<table border=\"1\" class=\"dataframe\">\n",
       "  <thead>\n",
       "    <tr style=\"text-align: right;\">\n",
       "      <th></th>\n",
       "      <th>PctUnemployed</th>\n",
       "      <th>PctEmploy</th>\n",
       "      <th>HousVacant</th>\n",
       "      <th>PctHousOccup</th>\n",
       "      <th>PctHousOwnOcc</th>\n",
       "      <th>PctVacantBoarded</th>\n",
       "      <th>PctVacMore6Mos</th>\n",
       "    </tr>\n",
       "  </thead>\n",
       "  <tbody>\n",
       "    <tr>\n",
       "      <th>0</th>\n",
       "      <td>2.70</td>\n",
       "      <td>64.55</td>\n",
       "      <td>64</td>\n",
       "      <td>98.37</td>\n",
       "      <td>91.01</td>\n",
       "      <td>3.12</td>\n",
       "      <td>37.50</td>\n",
       "    </tr>\n",
       "    <tr>\n",
       "      <th>1</th>\n",
       "      <td>2.43</td>\n",
       "      <td>61.96</td>\n",
       "      <td>240</td>\n",
       "      <td>97.15</td>\n",
       "      <td>84.88</td>\n",
       "      <td>0.00</td>\n",
       "      <td>18.33</td>\n",
       "    </tr>\n",
       "    <tr>\n",
       "      <th>2</th>\n",
       "      <td>4.01</td>\n",
       "      <td>69.80</td>\n",
       "      <td>544</td>\n",
       "      <td>95.68</td>\n",
       "      <td>57.79</td>\n",
       "      <td>0.92</td>\n",
       "      <td>7.54</td>\n",
       "    </tr>\n",
       "    <tr>\n",
       "      <th>3</th>\n",
       "      <td>9.86</td>\n",
       "      <td>54.74</td>\n",
       "      <td>669</td>\n",
       "      <td>91.19</td>\n",
       "      <td>54.89</td>\n",
       "      <td>2.54</td>\n",
       "      <td>57.85</td>\n",
       "    </tr>\n",
       "    <tr>\n",
       "      <th>4</th>\n",
       "      <td>9.08</td>\n",
       "      <td>52.44</td>\n",
       "      <td>333</td>\n",
       "      <td>92.45</td>\n",
       "      <td>53.57</td>\n",
       "      <td>3.90</td>\n",
       "      <td>42.64</td>\n",
       "    </tr>\n",
       "  </tbody>\n",
       "</table>\n",
       "</div>"
      ],
      "text/plain": [
       "   PctUnemployed  PctEmploy  HousVacant  PctHousOccup  PctHousOwnOcc  \\\n",
       "0           2.70      64.55          64         98.37          91.01   \n",
       "1           2.43      61.96         240         97.15          84.88   \n",
       "2           4.01      69.80         544         95.68          57.79   \n",
       "3           9.86      54.74         669         91.19          54.89   \n",
       "4           9.08      52.44         333         92.45          53.57   \n",
       "\n",
       "   PctVacantBoarded  PctVacMore6Mos  \n",
       "0              3.12           37.50  \n",
       "1              0.00           18.33  \n",
       "2              0.92            7.54  \n",
       "3              2.54           57.85  \n",
       "4              3.90           42.64  "
      ]
     },
     "execution_count": 6,
     "metadata": {},
     "output_type": "execute_result"
    }
   ],
   "source": [
    "#ViolentCrimesPerPop\n",
    "Y = df['ViolentCrimesPerPop']\n",
    "\n",
    "df = df.drop('ViolentCrimesPerPop', axis=1)\n",
    "df.head()"
   ]
  },
  {
   "cell_type": "code",
   "execution_count": 33,
   "metadata": {
    "collapsed": false,
    "scrolled": false
   },
   "outputs": [
    {
     "name": "stdout",
     "output_type": "stream",
     "text": [
      "For the tuning parameter value of: 1e-15\n",
      "The rss value is  235895.458327\n",
      "For the tuning parameter value of: 1e-10\n",
      "The rss value is  451962.053234\n",
      "For the tuning parameter value of: 1e-08\n",
      "The rss value is  662005.359833\n",
      "For the tuning parameter value of: 0.0001\n",
      "The rss value is  886984.47663\n",
      "For the tuning parameter value of: 0.001\n",
      "The rss value is  1109830.63518\n",
      "For the tuning parameter value of: 0.01\n",
      "The rss value is  1349990.26507\n",
      "For the tuning parameter value of: 1\n",
      "The rss value is  1569173.18815\n",
      "For the tuning parameter value of: 5\n",
      "The rss value is  1795109.22102\n",
      "For the tuning parameter value of: 10\n",
      "The rss value is  2010858.74691\n",
      "For the tuning parameter value of: 20\n",
      "The rss value is  2223485.66874\n"
     ]
    },
    {
     "data": {
      "image/png": "[encoded data removed]",
      "text/plain": [
       "<matplotlib.figure.Figure at 0x7fb08e159710>"
      ]
     },
     "metadata": {},
     "output_type": "display_data"
    },
    {
     "name": "stdout",
     "output_type": "stream",
     "text": [
      " The minimum value is  235895.458327\n"
     ]
    }
   ],
   "source": [
    "alpha_values = [1e-15, 1e-10, 1e-8, 1e-4, 1e-3,1e-2, 1, 5, 10, 20]\n",
    "rss_values = [0,0,0, 0, 0, 0, 0, 0, 0, 0]\n",
    "rss = 0\n",
    "minimum = 10000000.0\n",
    "for i in range(10):\n",
    "    print \"For the tuning parameter value of:\", alpha_values[i]\n",
    "    for j in range(5):\n",
    "        clf = rd(alpha=alpha_values[i])\n",
    "        X_train, X_test, Y_train, Y_test = train_test_split(df, Y, test_size=0.2)\n",
    "        clf.fit(X_train, Y_train)\n",
    "        rss = rss + np.mean((Y_test-clf.predict(X_test))**2)\n",
    "    \n",
    "    print \"The rss value is \", float(rss/5.0)\n",
    "    if(float(rss/5.0)<minimum):\n",
    "        minimum = float(rss/5.0)\n",
    "    rss_values[i] = float(rss/5.0)\n",
    "plt.scatter(rss_values, alpha_values)\n",
    "plt.show()\n",
    "print \" The minimum value is \", minimum"
   ]
  },
  {
   "cell_type": "code",
   "execution_count": 14,
   "metadata": {
    "collapsed": false,
    "scrolled": true
   },
   "outputs": [
    {
     "data": {
      "image/png": "[encoded data removed]",
      "text/plain": [
       "<matplotlib.figure.Figure at 0x7fb090fd04d0>"
      ]
     },
     "metadata": {},
     "output_type": "display_data"
    }
   ],
   "source": [
    "plt.scatter(Y_test, clf.predict(X_test))\n",
    "plt.show()"
   ]
  },
  {
   "cell_type": "code",
   "execution_count": 16,
   "metadata": {
    "collapsed": false,
    "scrolled": false
   },
   "outputs": [
    {
     "data": {
      "image/png": "[encoded data removed]",
      "text/plain": [
       "<matplotlib.figure.Figure at 0x7fb0910ec5d0>"
      ]
     },
     "metadata": {},
     "output_type": "display_data"
    }
   ],
   "source": [
    "##Finding the correlation between the values predicted by the linear regression model and the one with the \n",
    "##L2 normalization \n",
    "linearRegression = LinearRegression()\n",
    "model = linearRegression.fit(X_train, Y_train)\n",
    "plt.scatter(linearRegression.predict(X_test), clf.predict(X_test))\n",
    "plt.show()"
   ]
  },
  {
   "cell_type": "code",
   "execution_count": null,
   "metadata": {
    "collapsed": true
   },
   "outputs": [],
   "source": []
  }
 ],
 "metadata": {
  "anaconda-cloud": {},
  "kernelspec": {
   "display_name": "Python [default]",
   "language": "python",
   "name": "python2"
  },
  "language_info": {
   "codemirror_mode": {
    "name": "ipython",
    "version": 2
   },
   "file_extension": ".py",
   "mimetype": "text/x-python",
   "name": "python",
   "nbconvert_exporter": "python",
   "pygments_lexer": "ipython2",
   "version": "2.7.12"
  }
 },
 "nbformat": 4,
 "nbformat_minor": 1
}
