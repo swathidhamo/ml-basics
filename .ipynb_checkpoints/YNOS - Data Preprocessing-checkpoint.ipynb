{
 "cells": [
  {
   "cell_type": "code",
   "execution_count": 52,
   "metadata": {
    "collapsed": true
   },
   "outputs": [],
   "source": [
    "import numpy as np\n",
    "import pandas as pd\n",
    "import sklearn.datasets\n",
    "%matplotlib inline\n",
    "import matplotlib.pyplot as plt\n",
    "import random\n",
    "from sklearn.preprocessing import Imputer\n",
    "from sklearn.linear_model import LinearRegression\n",
    "from sklearn.cross_validation import train_test_split\n"
   ]
  },
  {
   "cell_type": "code",
   "execution_count": 49,
   "metadata": {
    "collapsed": false,
    "scrolled": false
   },
   "outputs": [
    {
     "name": "stdout",
     "output_type": "stream",
     "text": [
      "<class 'pandas.core.frame.DataFrame'>\n",
      "Index: 111 entries, YNOS0309 to YNOS0541\n",
      "Data columns (total 14 columns):\n",
      "startupName              111 non-null object\n",
      "ICBindustry              81 non-null object\n",
      "ICBsector                81 non-null object\n",
      "businessModel            81 non-null object\n",
      "groupClassification      111 non-null object\n",
      "investmentStage          74 non-null object\n",
      "investorType             74 non-null object\n",
      "keyword                  111 non-null object\n",
      "roundInvestmentAmount    111 non-null object\n",
      "startupClassification    111 non-null object\n",
      "stageClassification      84 non-null object\n",
      "startupStatus            77 non-null object\n",
      "Lat                      80 non-null float64\n",
      "Lon                      80 non-null float64\n",
      "dtypes: float64(2), object(12)\n",
      "memory usage: 13.0+ KB\n",
      "None\n"
     ]
    }
   ],
   "source": [
    "df = pd.read_csv('datasets/startup.csv', index_col=0)\n",
    "colsToDrop=['accelaratorResult','Old value','roundDate','equityValuation','investorName', 'foundedDate','state','city','dealInvestmentAmount','accelerator','roundInvestorCount','linkedinURL','roundLeadInvestorType','roundValuation','accleratorDate','incubatorResult','website','source','founderName','description','incubator','incubatorDate']\n",
    "#df.drop(df.columns[df.columns.str.contains('unnamed',case = False)],axis = 1)\n",
    "df = df.drop(colsToDrop, axis=1)\n",
    "df = df.drop(df.columns[df.columns.str.contains('unnamed',case = False)],axis = 1)\n",
    "#print df.head(2)\n",
    "print df.info()\n"
   ]
  },
  {
   "cell_type": "code",
   "execution_count": 54,
   "metadata": {
    "collapsed": false,
    "scrolled": true
   },
   "outputs": [],
   "source": [
    "#Pre-seed is 0, Seed is 1, Series A is 2, Series B is 3, Series C is 4, Others is 5 and blank is -1\n",
    "def findStage(classification):\n",
    "    round_name, new = classification\n",
    "    if(type(round_name)==float):\n",
    "        return -1\n",
    "    if(round_name.find(\"Pre-Seed\")!=-1):\n",
    "        return 0\n",
    "    elif (round_name.find(\"Seed\")!=-1):\n",
    "        return 1\n",
    "    elif(round_name.find(\"Series A\")!=-1):\n",
    "        return 2\n",
    "    elif(round_name.find(\"Series B\")!=-1):\n",
    "        return 3\n",
    "    elif(round_name.find(\"Series C\")!=-1):\n",
    "        return 4\n",
    "    else:\n",
    "        return 5\n",
    "#To get a new column\n",
    "df[\"round\"] = df[['stageClassification','keyword']].apply(findStage,axis=1)\n",
    "df = df.drop(['stageClassification'], axis=1)\n"
   ]
  },
  {
   "cell_type": "code",
   "execution_count": 55,
   "metadata": {
    "collapsed": false,
    "scrolled": true
   },
   "outputs": [],
   "source": [
    "#Convert business Model to 0 or 1\n",
    "#0 => B2B 1 => B2C\n",
    "def findTypeOfBusiness(classification):\n",
    "    typeOfBusiness, roundtime = classification\n",
    "    if(type(typeOfBusiness)==float):\n",
    "        return -1\n",
    "    if(typeOfBusiness.find(\"B2B\")!=-1):\n",
    "        return 0\n",
    "    elif(typeOfBusiness.find(\"B2C\")!=-1):\n",
    "        return 1\n",
    "\n",
    "\n",
    "df[\"businessModelInt\"] = df[['businessModel','round']].apply(findTypeOfBusiness,axis=1)\n",
    "\n",
    "\n"
   ]
  },
  {
   "cell_type": "code",
   "execution_count": null,
   "metadata": {
    "collapsed": true
   },
   "outputs": [],
   "source": []
  }
 ],
 "metadata": {
  "anaconda-cloud": {},
  "kernelspec": {
   "display_name": "Python [default]",
   "language": "python",
   "name": "python2"
  },
  "language_info": {
   "codemirror_mode": {
    "name": "ipython",
    "version": 2
   },
   "file_extension": ".py",
   "mimetype": "text/x-python",
   "name": "python",
   "nbconvert_exporter": "python",
   "pygments_lexer": "ipython2",
   "version": "2.7.12"
  }
 },
 "nbformat": 4,
 "nbformat_minor": 1
}
