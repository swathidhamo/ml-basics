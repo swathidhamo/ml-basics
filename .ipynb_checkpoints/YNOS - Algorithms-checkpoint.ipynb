{
 "cells": [
  {
   "cell_type": "code",
   "execution_count": 3,
   "metadata": {
    "collapsed": true
   },
   "outputs": [],
   "source": [
    "import numpy as np\n",
    "import pandas as pd\n",
    "import sklearn.datasets\n",
    "%matplotlib inline\n",
    "import matplotlib.pyplot as plt\n",
    "import random\n",
    "from sklearn.preprocessing import Imputer\n",
    "from sklearn.linear_model import LinearRegression\n",
    "from sklearn.cross_validation import train_test_split\n",
    "from sklearn import decomposition"
   ]
  },
  {
   "cell_type": "code",
   "execution_count": 17,
   "metadata": {
    "collapsed": false,
    "scrolled": false
   },
   "outputs": [
    {
     "name": "stdout",
     "output_type": "stream",
     "text": [
      "<class 'pandas.core.frame.DataFrame'>\n",
      "Int64Index: 111 entries, 0 to 110\n",
      "Data columns (total 5 columns):\n",
      "roundInvestmentAmount    111 non-null object\n",
      "round                    111 non-null int64\n",
      "businessModelInt         111 non-null int64\n",
      "industry                 111 non-null int64\n",
      "natureOfInvestment       111 non-null int64\n",
      "dtypes: int64(4), object(1)\n",
      "memory usage: 5.2+ KB\n",
      "None\n"
     ]
    }
   ],
   "source": [
    "df = pd.read_csv('datasets/modified.csv', index_col=0)\n",
    "print df.info()\n",
    "df = df.drop(['roundInvestmentAmount'], axis=1)\n",
    "df_test = df[:20]\n",
    "df_train = df[0:80]\n",
    "#df['roundInvestmentAmount'][0]"
   ]
  },
  {
   "cell_type": "code",
   "execution_count": 18,
   "metadata": {
    "collapsed": false
   },
   "outputs": [
    {
     "data": {
      "text/plain": [
       "array([0, 2, 0, 1, 0, 3, 3, 0, 1, 3, 0, 0, 0, 2, 3, 3, 2, 0, 1, 0], dtype=int32)"
      ]
     },
     "execution_count": 18,
     "metadata": {},
     "output_type": "execute_result"
    }
   ],
   "source": [
    "from sklearn import cluster\n",
    "\n",
    "# Create the KMeans model\n",
    "clf = cluster.KMeans(init='k-means++', n_clusters=4, random_state=42)\n",
    "\n",
    "# Fit the training data to the model\n",
    "clf.fit(df_train)\n",
    "clf.predict(df_test)\n",
    "\n"
   ]
  },
  {
   "cell_type": "code",
   "execution_count": 19,
   "metadata": {
    "collapsed": false,
    "scrolled": true
   },
   "outputs": [
    {
     "name": "stdout",
     "output_type": "stream",
     "text": [
      "[ 5.47633607  3.08961519  0.46085779  0.05350344]\n"
     ]
    }
   ],
   "source": [
    "pca = decomposition.PCA()\n",
    "pca.fit(df_train)\n",
    "print(pca.explained_variance_)  \n",
    "##Component 1 and 2 that is, round and business model type play a larger role"
   ]
  }
 ],
 "metadata": {
  "anaconda-cloud": {},
  "kernelspec": {
   "display_name": "Python [default]",
   "language": "python",
   "name": "python2"
  },
  "language_info": {
   "codemirror_mode": {
    "name": "ipython",
    "version": 2
   },
   "file_extension": ".py",
   "mimetype": "text/x-python",
   "name": "python",
   "nbconvert_exporter": "python",
   "pygments_lexer": "ipython2",
   "version": "2.7.12"
  }
 },
 "nbformat": 4,
 "nbformat_minor": 1
}
