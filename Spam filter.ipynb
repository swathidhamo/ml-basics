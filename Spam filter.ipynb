{
 "cells": [
  {
   "cell_type": "code",
   "execution_count": 74,
   "metadata": {
    "collapsed": false
   },
   "outputs": [],
   "source": [
    "import numpy as np\n",
    "import pandas as pd\n",
    "import random\n",
    "import os\n",
    "from collections import Counter\n",
    "from sklearn.naive_bayes import MultinomialNB, GaussianNB, BernoulliNB\n",
    "from sklearn.svm import SVC, NuSVC, LinearSVC\n",
    "from sklearn.metrics import confusion_matrix \n",
    "from sklearn.metrics import precision_recall_curve\n",
    "from scipy.stats import beta, dirichlet, alpha\n",
    "%matplotlib inline\n",
    "import matplotlib.pyplot as plt\n",
    "\n"
   ]
  },
  {
   "cell_type": "code",
   "execution_count": 48,
   "metadata": {
    "collapsed": false,
    "scrolled": false
   },
   "outputs": [],
   "source": [
    "#Creating the vocabulary\n",
    "def create_vocabulary(start,end):\n",
    "    vocab = []\n",
    "\n",
    "    for i in range(start, end):\n",
    "        path_Name = \"./datasets/Q10/part\"+str(i)\n",
    "        file_count = ([f for f in os.walk(path_Name).next()[2] if f[-4:] == \".txt\"])\n",
    "  \n",
    "        for files in file_count:\n",
    "            file_Name = path_Name+'/'+files\n",
    "            my_File = open(file_Name, 'r')\n",
    "        #Read the file\n",
    "            read_File = my_File.read()\n",
    "        #Split the words\n",
    "            words = read_File.split()\n",
    "            words.remove('Subject:')\n",
    "            for word in words:\n",
    "                vocab.append(word)\n",
    "    #Using a set will only save the unique words\n",
    "    #unique_words = set(words)\n",
    "    #You can then print the set as a whole or loop through the set etc\n",
    "    dictionary = Counter(vocab)\n",
    "    dictionary = dictionary.most_common(6000)\n",
    "    return dictionary\n"
   ]
  },
  {
   "cell_type": "code",
   "execution_count": 26,
   "metadata": {
    "collapsed": false
   },
   "outputs": [],
   "source": [
    "#Finding the overall length\n",
    "def measure_length(start,end):\n",
    "    \n",
    "    overall_length = 0\n",
    "    for i in range(start, end):\n",
    "        path_Name = \"./datasets/Q10/part\"+str(i)\n",
    "        file_count = ([f for f in os.walk(path_Name).next()[2] if f[-4:] == \".txt\"])\n",
    "        overall_length += len(file_count)  \n",
    "    return overall_length\n"
   ]
  },
  {
   "cell_type": "code",
   "execution_count": 27,
   "metadata": {
    "collapsed": false,
    "scrolled": true
   },
   "outputs": [],
   "source": [
    "#Now to create the frequency matrix\n",
    "def create_feature(start, end, overall_length):\n",
    "    dictionary = create_vocabulary(start, end)\n",
    "\n",
    "    features_matrix = np.zeros((overall_length,len(dictionary)))\n",
    "    iterate = 0\n",
    "    for i in range(start, end):\n",
    "        path_Name = \"./datasets/Q10/part\"+str(i)\n",
    "        file_count = ([f for f in os.walk(path_Name).next()[2] if f[-4:] == \".txt\"])\n",
    "        docID = 0;\n",
    "        for files in file_count:\n",
    "            file_Name = path_Name+'/'+files\n",
    "            my_File = open(file_Name, 'r')\n",
    "        #Read the file\n",
    "            read_File = my_File.read()\n",
    "        #Split the words\n",
    "            words = read_File.split()\n",
    "            words.remove('Subject:')\n",
    "            for word in words:\n",
    "                wordID = 0;\n",
    "                for i,d in enumerate(dictionary):\n",
    "                    if d[0] == word:\n",
    "                    #print \"hi\"     \n",
    "                        wordID = i\n",
    "                        features_matrix[docID,wordID] = words.count(word)\n",
    "            iterate = iterate + 1\n",
    "    return features_matrix"
   ]
  },
  {
   "cell_type": "code",
   "execution_count": 28,
   "metadata": {
    "collapsed": true
   },
   "outputs": [],
   "source": [
    "#Now to create the frequency matrix\n",
    "def create_labels(start,end, overall_length):\n",
    "    \n",
    "    train_labels = np.zeros(overall_length)\n",
    "    iterate = 0\n",
    "    for i in range(start, end):\n",
    "        path_Name = \"./datasets/Q10/part\"+str(i)\n",
    "        file_count = ([f for f in os.walk(path_Name).next()[2] if f[-4:] == \".txt\"])\n",
    "        docID = 0;\n",
    "        for files in file_count:\n",
    "            \n",
    "            if(files.find('spmsg')!=-1):\n",
    "                train_labels[iterate] = 1 \n",
    "            iterate = iterate + 1\n",
    "    return train_labels"
   ]
  },
  {
   "cell_type": "code",
   "execution_count": 49,
   "metadata": {
    "collapsed": false,
    "scrolled": false
   },
   "outputs": [],
   "source": [
    "overall_length = measure_length(1, 9)\n",
    "train_matrix = create_feature(1, 9, overall_length)\n",
    "train_labels = create_labels(1, 9, overall_length)\n",
    "\n",
    "\n",
    "\n",
    "overall_length = measure_length(9, 11)\n",
    "test_matrix = create_feature(9, 11, overall_length)\n",
    "test_labels = create_labels(9, 11, overall_length)\n",
    "\n",
    "\n",
    "\n"
   ]
  },
  {
   "cell_type": "code",
   "execution_count": 51,
   "metadata": {
    "collapsed": false,
    "scrolled": true
   },
   "outputs": [
    {
     "name": "stdout",
     "output_type": "stream",
     "text": [
      "Multinomial NB\n",
      "[[124   0]\n",
      " [ 97   0]]\n",
      "0.561085972851\n"
     ]
    },
    {
     "data": {
      "image/png": "[encoded data removed]",
      "text/plain": [
       "<matplotlib.figure.Figure at 0x7fb2e51f0d50>"
      ]
     },
     "metadata": {},
     "output_type": "display_data"
    }
   ],
   "source": [
    "#Multinomial NB\n",
    "print \"Multinomial NB\"\n",
    "model1 = MultinomialNB()\n",
    "model1.fit(train_matrix,train_labels)\n",
    "result1 = model1.predict(test_matrix)\n",
    "print confusion_matrix(test_labels,result1)\n",
    "print model1.score(test_matrix, test_labels)\n",
    "precision, recall, thresholds = precision_recall_curve(test_labels, model1.predict(test_matrix))\n",
    "plt.scatter(precision, recall)\n",
    "plt.xlabel('Recall')\n",
    "plt.ylabel('Precision')\n",
    "\n",
    "plt.show()"
   ]
  },
  {
   "cell_type": "code",
   "execution_count": 52,
   "metadata": {
    "collapsed": false,
    "scrolled": true
   },
   "outputs": [
    {
     "name": "stdout",
     "output_type": "stream",
     "text": [
      "Bernoulli NB\n",
      "[[124   0]\n",
      " [ 96   1]]\n",
      "0.565610859729\n"
     ]
    },
    {
     "data": {
      "image/png": "[encoded data removed]",
      "text/plain": [
       "<matplotlib.figure.Figure at 0x7fb2e52b0f10>"
      ]
     },
     "metadata": {},
     "output_type": "display_data"
    }
   ],
   "source": [
    "#Bernoulli NB\n",
    "print \"Bernoulli NB\"\n",
    "model1 = BernoulliNB()\n",
    "model1.fit(train_matrix,train_labels)\n",
    "result1 = model1.predict(test_matrix)\n",
    "print confusion_matrix(test_labels,result1)\n",
    "print model1.score(test_matrix, test_labels)\n",
    "precision, recall, thresholds = precision_recall_curve(test_labels, model1.predict(test_matrix))\n",
    "plt.scatter(precision, recall)\n",
    "plt.xlabel('Recall')\n",
    "plt.ylabel('Precision')\n",
    "plt.show()"
   ]
  },
  {
   "cell_type": "code",
   "execution_count": 72,
   "metadata": {
    "collapsed": false,
    "scrolled": false
   },
   "outputs": [],
   "source": [
    "#If you want to convert it to Beta distribution \n",
    "a, b = 3.31, 1.627\n",
    "train_matrix = beta.pdf(train_matrix, a, b)\n",
    "test_matrix = beta.pdf(test_matrix, a, b)\n",
    "test_labels = beta.pdf(test_labels, a, b)\n",
    "train_labels = beta.pdf(train_labels, a, b)"
   ]
  },
  {
   "cell_type": "code",
   "execution_count": 93,
   "metadata": {
    "collapsed": false,
    "scrolled": true
   },
   "outputs": [],
   "source": [
    "def calculating_alpha(overall_length, length):\n",
    "    a = 32\n",
    "    alpha_a = np.arange(1, overall_length+1)\n",
    "    alpha = np.zeros(overall_length)\n",
    "    for i in range(0, overall_length):\n",
    "            alpha[i] = i+1\n",
    "    return alpha\n",
    "alpha = calculating_alpha(878, 6000)\n"
   ]
  },
  {
   "cell_type": "code",
   "execution_count": 47,
   "metadata": {
    "collapsed": false,
    "scrolled": false
   },
   "outputs": [
    {
     "name": "stdout",
     "output_type": "stream",
     "text": [
      "Gaussian NB\n",
      "[[124   0]\n",
      " [ 96   1]]\n",
      "0.565610859729\n"
     ]
    },
    {
     "data": {
      "image/png": "[encoded data removed]",
      "text/plain": [
       "<matplotlib.figure.Figure at 0x7fb2e547bc10>"
      ]
     },
     "metadata": {},
     "output_type": "display_data"
    }
   ],
   "source": [
    "#Gaussian NB\n",
    "print \"Gaussian NB\"\n",
    "model1 = GaussianNB()\n",
    "model1.fit(train_matrix,train_labels)\n",
    "result1 = model1.predict(test_matrix)\n",
    "print confusion_matrix(test_labels,result1)\n",
    "print model1.score(test_matrix, test_labels)\n",
    "precision, recall, thresholds = precision_recall_curve(test_labels, model1.predict(test_matrix))\n",
    "plt.scatter(precision, recall)\n",
    "plt.xlabel('Recall')\n",
    "plt.ylabel('Precision')\n",
    "plt.show()"
   ]
  }
 ],
 "metadata": {
  "anaconda-cloud": {},
  "kernelspec": {
   "display_name": "Python [default]",
   "language": "python",
   "name": "python2"
  },
  "language_info": {
   "codemirror_mode": {
    "name": "ipython",
    "version": 2
   },
   "file_extension": ".py",
   "mimetype": "text/x-python",
   "name": "python",
   "nbconvert_exporter": "python",
   "pygments_lexer": "ipython2",
   "version": "2.7.12"
  }
 },
 "nbformat": 4,
 "nbformat_minor": 1
}
