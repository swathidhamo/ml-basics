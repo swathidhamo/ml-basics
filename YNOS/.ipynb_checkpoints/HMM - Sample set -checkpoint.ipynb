{
 "cells": [
  {
   "cell_type": "code",
   "execution_count": 2,
   "metadata": {},
   "outputs": [],
   "source": [
    "import pandas\n",
    "import numpy\n",
    "import sklearn"
   ]
  },
  {
   "cell_type": "code",
   "execution_count": 3,
   "metadata": {},
   "outputs": [],
   "source": [
    "seq = ['S', 'R', 'S', 'R', 'R', 'S']\n",
    "trans_matrix = [[0.35, 0.25, 0.40],\n",
    "               [0.25, 0.55, 0.20],\n",
    "               [0.4,0.2,0.4]]\n",
    "emission_matrix = [[0.35, 0.65], \n",
    "                  [0.75, 0.25], \n",
    "                  [0.45, 0.55]]\n",
    "number_of_states = 3\n",
    "number_of_obs = 2\n",
    "collective_matrix = []\n",
    "##Wet Dry Muddy "
   ]
  },
  {
   "cell_type": "code",
   "execution_count": 4,
   "metadata": {},
   "outputs": [
    {
     "data": {
      "text/plain": [
       "[[[0.12, 0.23], [0.09, 0.16], [0.14, 0.26]],\n",
       " [[0.19, 0.06], [0.41, 0.14], [0.15, 0.05]],\n",
       " [[0.18, 0.22], [0.09, 0.11], [0.18, 0.22]]]"
      ]
     },
     "execution_count": 4,
     "metadata": {},
     "output_type": "execute_result"
    }
   ],
   "source": [
    "collective_matrix = [];\n",
    "val_sunny = 0\n",
    "val_rainy = 0\n",
    "\n",
    "\n",
    "for i in range(number_of_states):\n",
    "    value_row = []\n",
    "    for j in range(number_of_states):\n",
    "        values = []\n",
    "        for k in range(number_of_obs):\n",
    "            a = round(trans_matrix[i][j]*emission_matrix[i][k], 2)\n",
    "            values.append(a)\n",
    "        value_row.append(values)\n",
    "    collective_matrix.append(value_row)\n",
    "collective_matrix"
   ]
  },
  {
   "cell_type": "code",
   "execution_count": 5,
   "metadata": {},
   "outputs": [],
   "source": [
    "def maximum(a, b):\n",
    "    if(a>b):\n",
    "        return a\n",
    "    else:\n",
    "        return b\n",
    "    \n",
    "def returnIndex(a):\n",
    "    if(a=='S'):\n",
    "        return 0\n",
    "    else:\n",
    "        return 1"
   ]
  },
  {
   "cell_type": "code",
   "execution_count": 6,
   "metadata": {
    "scrolled": true
   },
   "outputs": [
    {
     "name": "stdout",
     "output_type": "stream",
     "text": [
      "[[1], [2], [3]]\n",
      "[[1, 3], [2], [3]]\n",
      "[[1, 3], [2, 2], [3]]\n",
      "[[1, 3], [2, 2], [3, 3]]\n",
      "[[1, 3, 2], [2, 2], [3, 3]]\n",
      "[[1, 3, 2], [2, 2, 2], [3, 3]]\n",
      "[[1, 3, 2], [2, 2, 2], [3, 3, 3]]\n",
      "[[1, 3, 2, 2], [2, 2, 2], [3, 3, 3]]\n",
      "[[1, 3, 2, 2], [2, 2, 2, 2], [3, 3, 3]]\n",
      "[[1, 3, 2, 2], [2, 2, 2, 2], [3, 3, 3, 3]]\n",
      "[[1, 3, 2, 2, 2], [2, 2, 2, 2], [3, 3, 3, 3]]\n",
      "[[1, 3, 2, 2, 2], [2, 2, 2, 2, 2], [3, 3, 3, 3]]\n",
      "[[1, 3, 2, 2, 2], [2, 2, 2, 2, 2], [3, 3, 3, 3, 3]]\n",
      "[[1, 3, 2, 2, 2, 2], [2, 2, 2, 2, 2], [3, 3, 3, 3, 3]]\n",
      "[[1, 3, 2, 2, 2, 2], [2, 2, 2, 2, 2, 2], [3, 3, 3, 3, 3]]\n",
      "[[1, 3, 2, 2, 2, 2], [2, 2, 2, 2, 2, 2], [3, 3, 3, 3, 3, 3]]\n",
      "[[1, 3, 2, 2, 2, 2, 2], [2, 2, 2, 2, 2, 2], [3, 3, 3, 3, 3, 3]]\n",
      "[[1, 3, 2, 2, 2, 2, 2], [2, 2, 2, 2, 2, 2, 2], [3, 3, 3, 3, 3, 3]]\n",
      "[[1, 3, 2, 2, 2, 2, 2], [2, 2, 2, 2, 2, 2, 2], [3, 3, 3, 3, 3, 3, 3]]\n",
      "[8.51036508e-05, 8.51036508e-05, 1.86297408e-05]\n"
     ]
    }
   ],
   "source": [
    "variant_paths = [[1],[2],[3]] \n",
    "prob = [0.25, 0.45, 0.3]\n",
    "for i in range(len(seq)):\n",
    "    index = returnIndex(seq[i])\n",
    "    for j in range(len(variant_paths)):\n",
    "        val = variant_paths[j][-1]\n",
    "        print variant_paths\n",
    "        val = val-1\n",
    "        maxa = 0\n",
    "        maxIndex = 0\n",
    "        print \"n\"\n",
    "        for k in range(number_of_states):\n",
    "            prob_value = prob[k]*collective_matrix[val][k][index]\n",
    "            print collective_matrix[val][k][index]\n",
    "            if(prob_value>=maxa):\n",
    "                maxa = prob_value\n",
    "                maxIndex = k +1\n",
    "        prob[j] = maxa\n",
    "        variant_paths[j].append(maxIndex)\n",
    "        \n",
    "\n",
    "            \n",
    "print variant_paths   \n",
    "print prob\n"
   ]
  },
  {
   "cell_type": "code",
   "execution_count": 7,
   "metadata": {},
   "outputs": [],
   "source": [
    "def convert(arr):\n",
    "    for i in range(len(arr)):\n",
    "        for j in range(len(arr[0])):\n",
    "            if(arr[i][j]==1):\n",
    "                arr[i][j] = 'W'\n",
    "                \n",
    "            if(arr[i][j]==2):\n",
    "                arr[i][j] = 'D'\n",
    "                \n",
    "            if(arr[i][j]==3):\n",
    "                arr[i][j] = 'M'\n",
    "    \n",
    "    return arr    "
   ]
  },
  {
   "cell_type": "code",
   "execution_count": 8,
   "metadata": {},
   "outputs": [
    {
     "name": "stdout",
     "output_type": "stream",
     "text": [
      "[['W', 'M', 'D', 'D', 'D', 'D', 'D'], ['D', 'D', 'D', 'D', 'D', 'D', 'D'], ['M', 'M', 'M', 'M', 'M', 'M', 'M']]\n"
     ]
    }
   ],
   "source": [
    "hidden_seq = convert(variant_paths)\n",
    "print hidden_seq"
   ]
  }
 ],
 "metadata": {
  "kernelspec": {
   "display_name": "Python 2",
   "language": "python",
   "name": "python2"
  },
  "language_info": {
   "codemirror_mode": {
    "name": "ipython",
    "version": 2
   },
   "file_extension": ".py",
   "mimetype": "text/x-python",
   "name": "python",
   "nbconvert_exporter": "python",
   "pygments_lexer": "ipython2",
   "version": "2.7.15"
  }
 },
 "nbformat": 4,
 "nbformat_minor": 2
}
