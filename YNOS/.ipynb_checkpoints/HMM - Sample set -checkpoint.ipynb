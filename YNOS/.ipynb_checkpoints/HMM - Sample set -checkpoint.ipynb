{
 "cells": [
  {
   "cell_type": "code",
   "execution_count": 1,
   "metadata": {},
   "outputs": [],
   "source": [
    "import pandas\n",
    "import numpy\n",
    "import sklearn"
   ]
  },
  {
   "cell_type": "code",
   "execution_count": 41,
   "metadata": {},
   "outputs": [],
   "source": [
    "seq = ['W', 'D', 'W']\n",
    "trans_matrix = [[0.45, 0.55],\n",
    "               [0.4, 0.6]]\n",
    "# W D M \n",
    "emission_matrix = [[0.35, 0.25, 0.4], \n",
    "                  [0.30, 0.30, 0.40]]\n",
    "number_of_states = 2  #hidden states\n",
    "number_of_obs = 3\n",
    "collective_matrix = []\n",
    "##Wet Dry Muddy "
   ]
  },
  {
   "cell_type": "code",
   "execution_count": 42,
   "metadata": {},
   "outputs": [
    {
     "data": {
      "text/plain": [
       "[[[0.16, 0.11, 0.18], [0.19, 0.14, 0.22]],\n",
       " [[0.12, 0.12, 0.16], [0.18, 0.18, 0.24]]]"
      ]
     },
     "execution_count": 42,
     "metadata": {},
     "output_type": "execute_result"
    }
   ],
   "source": [
    "collective_matrix = [];\n",
    "val_sunny = 0\n",
    "val_rainy = 0\n",
    "\n",
    "\n",
    "for i in range(number_of_states):\n",
    "    value_row = []\n",
    "    for j in range(number_of_states):\n",
    "        values = []\n",
    "        for k in range(number_of_obs):\n",
    "            a = round(trans_matrix[i][j]*emission_matrix[i][k], 2)\n",
    "            values.append(a)\n",
    "        value_row.append(values)\n",
    "    collective_matrix.append(value_row)\n",
    "collective_matrix"
   ]
  },
  {
   "cell_type": "code",
   "execution_count": 43,
   "metadata": {},
   "outputs": [],
   "source": [
    "def maximum(a, b):\n",
    "    if(a>b):\n",
    "        return a\n",
    "    else:\n",
    "        return b\n",
    "    \n",
    "def returnIndex(a):\n",
    "    if(a=='W'):\n",
    "        return 0\n",
    "    elif(a=='D'):\n",
    "        return 1\n",
    "    else:\n",
    "        return 2"
   ]
  },
  {
   "cell_type": "code",
   "execution_count": 44,
   "metadata": {},
   "outputs": [],
   "source": [
    "def maxValueIndex(arr):\n",
    "    maxIndex = 0\n",
    "    for i in range(len(arr)):\n",
    "        if(arr[i]>arr[maxIndex]):\n",
    "            maxIndex = i\n",
    "    return maxIndex"
   ]
  },
  {
   "cell_type": "code",
   "execution_count": 56,
   "metadata": {},
   "outputs": [],
   "source": [
    "def convert(arr):\n",
    "    for i in range(len(arr)):\n",
    "            if(arr[i]==0):\n",
    "                arr[i] = 'S'\n",
    "                \n",
    "            if(arr[i]==1):\n",
    "                arr[i] = 'R'\n",
    "                \n",
    "    \n",
    "    return arr    "
   ]
  },
  {
   "cell_type": "code",
   "execution_count": 57,
   "metadata": {},
   "outputs": [],
   "source": [
    "def runSequence(variant_paths, starting_prob, trans_matrix, emission_matrix):\n",
    "    variant_paths.append(maxValueIndex(starting_prob))\n",
    "    prob = starting_prob[maxValueIndex(starting_prob)]\n",
    "    print \"The starting probability is \", prob\n",
    "    for i in range(len(seq)):\n",
    "        index = returnIndex(seq[i])\n",
    "        val = variant_paths[-1]\n",
    "        print variant_paths\n",
    "        prob = prob*emission_matrix[val][index]\n",
    "        transistion_index = maxValueIndex(trans_matrix[val])\n",
    "        print prob\n",
    "        variant_paths.append(transistion_index)\n",
    "        if(i != len(seq)-1):\n",
    "            prob = prob*trans_matrix[val][transistion_index]\n",
    "            print prob        \n",
    "    print variant_paths   \n",
    "    print prob\n",
    "    hidden_seq = convert(variant_paths)\n",
    "    print hidden_seq\n",
    "    return prob\n",
    "\n",
    "    "
   ]
  },
  {
   "cell_type": "code",
   "execution_count": 58,
   "metadata": {},
   "outputs": [
    {
     "name": "stdout",
     "output_type": "stream",
     "text": [
      "The starting probability is  0.55\n",
      "[0]\n",
      "0.1925\n",
      "0.105875\n",
      "[0, 1]\n",
      "0.0317625\n",
      "0.0190575\n",
      "[0, 1, 1]\n",
      "0.00571725\n",
      "[0, 1, 1, 1]\n",
      "0.00571725\n",
      "['S', 'R', 'R', 'R']\n"
     ]
    },
    {
     "data": {
      "text/plain": [
       "0.005717249999999999"
      ]
     },
     "execution_count": 58,
     "metadata": {},
     "output_type": "execute_result"
    }
   ],
   "source": [
    "variant_paths = []\n",
    "starting_prob = [0.55, 0.45]\n",
    "runSequence(variant_paths, starting_prob, trans_matrix, emission_matrix)"
   ]
  }
 ],
 "metadata": {
  "kernelspec": {
   "display_name": "Python 2",
   "language": "python",
   "name": "python2"
  },
  "language_info": {
   "codemirror_mode": {
    "name": "ipython",
    "version": 2
   },
   "file_extension": ".py",
   "mimetype": "text/x-python",
   "name": "python",
   "nbconvert_exporter": "python",
   "pygments_lexer": "ipython2",
   "version": "2.7.15"
  }
 },
 "nbformat": 4,
 "nbformat_minor": 2
}
