{
 "cells": [
  {
   "cell_type": "code",
   "execution_count": 147,
   "metadata": {
    "collapsed": true
   },
   "outputs": [],
   "source": [
    "import numpy as np\n",
    "import pandas as pd\n",
    "import sklearn.datasets\n",
    "%matplotlib inline\n",
    "import matplotlib.pyplot as plt\n",
    "import random\n",
    "from sklearn.preprocessing import Imputer\n",
    "from sklearn.linear_model import LinearRegression\n",
    "from sklearn.cross_validation import train_test_split\n"
   ]
  },
  {
   "cell_type": "code",
   "execution_count": 148,
   "metadata": {
    "collapsed": false,
    "scrolled": true
   },
   "outputs": [
    {
     "name": "stdout",
     "output_type": "stream",
     "text": [
      "<class 'pandas.core.frame.DataFrame'>\n",
      "Index: 111 entries, YNOS0309 to YNOS0541\n",
      "Data columns (total 11 columns):\n",
      "startupName              111 non-null object\n",
      "ICBindustry              81 non-null object\n",
      "businessModel            81 non-null object\n",
      "groupClassification      111 non-null object\n",
      "investmentStage          74 non-null object\n",
      "investorType             74 non-null object\n",
      "keyword                  111 non-null object\n",
      "roundInvestmentAmount    111 non-null object\n",
      "startupClassification    111 non-null object\n",
      "stageClassification      84 non-null object\n",
      "startupStatus            77 non-null object\n",
      "dtypes: object(11)\n",
      "memory usage: 10.4+ KB\n",
      "None\n"
     ]
    }
   ],
   "source": [
    "df = pd.read_csv('datasets/startup.csv', index_col=0)\n",
    "colsToDrop=['ICBsector','Lat','Lon','accelaratorResult','Old value','roundDate','equityValuation','investorName', 'foundedDate','state','city','dealInvestmentAmount','accelerator','roundInvestorCount','linkedinURL','roundLeadInvestorType','roundValuation','accleratorDate','incubatorResult','website','source','founderName','description','incubator','incubatorDate']\n",
    "#df.drop(df.columns[df.columns.str.contains('unnamed',case = False)],axis = 1)\n",
    "df = df.drop(colsToDrop, axis=1)\n",
    "df = df.drop(df.columns[df.columns.str.contains('unnamed',case = False)],axis = 1)\n",
    "#print df.head(2)\n",
    "print df.info()\n"
   ]
  },
  {
   "cell_type": "code",
   "execution_count": 149,
   "metadata": {
    "collapsed": false,
    "scrolled": true
   },
   "outputs": [],
   "source": [
    "#Pre-seed is 0, Seed is 1, Series A is 2, Series B is 3, Series C is 4, Others is 5 and blank is -1\n",
    "def findStage(classification):\n",
    "    round_name, = classification\n",
    "    if(type(round_name)==float):\n",
    "        return -1\n",
    "    if(round_name.find(\"Pre-Seed\")!=-1):\n",
    "        return 0\n",
    "    elif (round_name.find(\"Seed\")!=-1):\n",
    "        return 1\n",
    "    elif(round_name.find(\"Series A\")!=-1):\n",
    "        return 2\n",
    "    elif(round_name.find(\"Series B\")!=-1):\n",
    "        return 3\n",
    "    elif(round_name.find(\"Series C\")!=-1):\n",
    "        return 4\n",
    "    else:\n",
    "        return 5\n",
    "#To get a new column\n",
    "df[\"round\"] = df[['stageClassification']].apply(findStage,axis=1)\n",
    "df = df.drop(['stageClassification'], axis=1)\n",
    "df = df.reset_index()\n",
    "df = df.drop(['startupID'], axis=1)\n"
   ]
  },
  {
   "cell_type": "code",
   "execution_count": 150,
   "metadata": {
    "collapsed": false,
    "scrolled": false
   },
   "outputs": [],
   "source": [
    "#Convert business Model to 0 or 1\n",
    "#0 => B2B 1 => B2C\n",
    "def findTypeOfBusiness(classification):\n",
    "    typeOfBusiness, names = classification\n",
    "    if(type(typeOfBusiness)==float):\n",
    "        return -1\n",
    "    elif(typeOfBusiness.find(\"B2B\")!=-1):\n",
    "        return 0\n",
    "    elif(typeOfBusiness.find(\"B2C\")!=-1):\n",
    "        return 1\n",
    "\n",
    "\n",
    "df[\"businessModelInt\"] = df[['businessModel','keyword']].apply(findTypeOfBusiness,axis=1)\n",
    "df = df.drop(['businessModel'], axis=1)\n",
    "\n"
   ]
  },
  {
   "cell_type": "code",
   "execution_count": 151,
   "metadata": {
    "collapsed": false,
    "scrolled": true
   },
   "outputs": [],
   "source": [
    "df.ICBindustry.unique()\n",
    "#Technology is 0, Consumer Services 1, Consumer Goods is 2, Financials is 3,\n",
    "#Industrials is 4,  Healthcare is 5 and blank is -1\n",
    "def findIndustry(classification):\n",
    "    round_name, new = classification\n",
    "    if(type(round_name)==float):\n",
    "        return -1\n",
    "    if(round_name.find(\"Technology\")!=-1):\n",
    "        return 0\n",
    "    elif (round_name.find(\"Consumer Services\")!=-1):\n",
    "        return 1\n",
    "    elif(round_name.find(\"Consumer Goods\")!=-1):\n",
    "        return 2\n",
    "    elif(round_name.find(\"Financials\")!=-1):\n",
    "        return 3\n",
    "    elif(round_name.find(\"Industrials\")!=-1):\n",
    "        return 4\n",
    "    elif(round_name.find(\"Healthcare\")!=-1):\n",
    "        return 5\n",
    "    else:\n",
    "        return -1\n",
    "#To get a new column\n",
    "df[\"industry\"] = df[['ICBindustry','keyword']].apply(findIndustry,axis=1)\n",
    "df = df.drop(['ICBindustry'], axis=1)\n"
   ]
  },
  {
   "cell_type": "code",
   "execution_count": 152,
   "metadata": {
    "collapsed": false,
    "scrolled": true
   },
   "outputs": [],
   "source": [
    "df.startupClassification.unique()\n",
    "#1 if internet is present in the core business, 0 is not\n",
    "def isInternet(classification):\n",
    "    round_name, new = classification\n",
    "    if(type(round_name)==float):\n",
    "        return 0\n",
    "    if(round_name.find(\"Internet\")!=-1):\n",
    "        return 1\n",
    "    elif (round_name.find(\"Consumer Services\")!=-1):\n",
    "        return 0\n",
    "#To get a new column\n",
    "df[\"internet\"] = df[['startupClassification','keyword']].apply(isInternet,axis=1)\n",
    "df = df.drop(['startupClassification'], axis=1)\n"
   ]
  },
  {
   "cell_type": "code",
   "execution_count": 154,
   "metadata": {
    "collapsed": false,
    "scrolled": true
   },
   "outputs": [],
   "source": [
    "df.startupStatus.unique()\n",
    "#1 if it is an angel investment, 0 if it is not\n",
    "def setNature(classification):\n",
    "    round_name, new = classification\n",
    "    if(type(round_name)==float):\n",
    "        return 1\n",
    "    elif(round_name.find(\"VC Funded\")!=-1):\n",
    "        return 0\n",
    "    elif (round_name.find(\"Angel investment\")!=-1):\n",
    "        return 1\n",
    "    else: \n",
    "        return 1\n",
    "#To get a new column\n",
    "df[\"natureOfInvestment\"] = df[['startupStatus','keyword']].apply(setNature,axis=1)\n",
    "df = df.drop(['internet','keyword', 'investorType', 'investmentStage','startupName','groupClassification','startupStatus'], axis=1)\n",
    "\n",
    "#do angel or vc that is necessart\n",
    "#df = df.drop(['keyword', 'investorType', 'investmentStage','startupName','groupClassification'])"
   ]
  },
  {
   "cell_type": "code",
   "execution_count": 157,
   "metadata": {
    "collapsed": false,
    "scrolled": true
   },
   "outputs": [],
   "source": [
    "df.to_csv('datasets/modified.csv')\n"
   ]
  }
 ],
 "metadata": {
  "anaconda-cloud": {},
  "kernelspec": {
   "display_name": "Python [default]",
   "language": "python",
   "name": "python2"
  },
  "language_info": {
   "codemirror_mode": {
    "name": "ipython",
    "version": 2
   },
   "file_extension": ".py",
   "mimetype": "text/x-python",
   "name": "python",
   "nbconvert_exporter": "python",
   "pygments_lexer": "ipython2",
   "version": "2.7.12"
  }
 },
 "nbformat": 4,
 "nbformat_minor": 1
}
